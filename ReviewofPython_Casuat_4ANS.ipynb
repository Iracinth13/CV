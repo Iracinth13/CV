{
  "cells": [
    {
      "cell_type": "markdown",
      "metadata": {
        "id": "view-in-github",
        "colab_type": "text"
      },
      "source": [
        "<a href=\"https://colab.research.google.com/github/Iracinth13/CV/blob/main/ReviewofPython_Casuat_4ANS.ipynb\" target=\"_parent\"><img src=\"https://colab.research.google.com/assets/colab-badge.svg\" alt=\"Open In Colab\"/></a>"
      ]
    },
    {
      "cell_type": "markdown",
      "metadata": {
        "id": "WV-tDIDNX90m"
      },
      "source": [
        "© Cherry Casuat (2022)"
      ]
    },
    {
      "cell_type": "markdown",
      "metadata": {
        "id": "nuLAY70LYKyo"
      },
      "source": [
        "This is the notebook for Introduction to Machine Learning "
      ]
    },
    {
      "cell_type": "markdown",
      "metadata": {
        "id": "JzwoJaO4YbFa"
      },
      "source": [
        "#Review of Python Programming"
      ]
    },
    {
      "cell_type": "markdown",
      "metadata": {
        "id": "2OSj5aeRYlqW"
      },
      "source": [
        "## Proper Naming Convention "
      ]
    },
    {
      "cell_type": "markdown",
      "metadata": {
        "id": "ROR1QIBoaLlp"
      },
      "source": [
        "You might think discussing this topic must be pointless or too simplistic but it is actually one of the most frequent mistakes that data scientists, professors, or researchers usually do. Naming variables and functions properly will bring clarity to understanding the code."
      ]
    },
    {
      "cell_type": "code",
      "execution_count": null,
      "metadata": {
        "id": "k8FTRF0-aDA3"
      },
      "outputs": [],
      "source": [
        "import pandas as pd"
      ]
    },
    {
      "cell_type": "code",
      "execution_count": null,
      "metadata": {
        "id": "wcpwpXMhaoQ_"
      },
      "outputs": [],
      "source": [
        "last_names = [\"Rosales\",\"Cruz\", \"Reyes\"]\n",
        "#ln , avoid creating ambiguity"
      ]
    },
    {
      "cell_type": "code",
      "execution_count": null,
      "metadata": {
        "id": "6ygSIRTIbNta"
      },
      "outputs": [],
      "source": [
        "last_names"
      ]
    },
    {
      "cell_type": "markdown",
      "metadata": {
        "id": "alN4AtH8bb4b"
      },
      "source": [
        "##Practice Activity\n",
        "1. Create variable declarations for \n",
        "   - First Names\n",
        "   -Grades for Prelim\n",
        "   -Grades for Midterm\n",
        "   -Grades for Finals"
      ]
    },
    {
      "cell_type": "code",
      "execution_count": null,
      "metadata": {
        "id": "2RCExqHGbUca"
      },
      "outputs": [],
      "source": [
        "# CODE HERE \n",
        "import pandas as pd"
      ]
    },
    {
      "cell_type": "code",
      "execution_count": null,
      "metadata": {
        "id": "IoriaxCMjwo9"
      },
      "outputs": [],
      "source": [
        "first_name=[\"Irish\",\"Adrian\",\"Ian\"]\n",
        "first_name"
      ]
    },
    {
      "cell_type": "code",
      "execution_count": null,
      "metadata": {
        "id": "kLvjQJm2kfLk"
      },
      "outputs": [],
      "source": [
        "prelim_grades=[99,92,88]\n",
        "prelim_grades"
      ]
    },
    {
      "cell_type": "code",
      "execution_count": null,
      "metadata": {
        "id": "yEzlnVVEkiGC"
      },
      "outputs": [],
      "source": [
        "midterm_grades=[91,90,85]\n",
        "midterm_grades"
      ]
    },
    {
      "cell_type": "code",
      "execution_count": null,
      "metadata": {
        "id": "CixK8fdbkoCL"
      },
      "outputs": [],
      "source": [
        "final_grades=[90,89,81]\n",
        "final_grades"
      ]
    },
    {
      "cell_type": "markdown",
      "metadata": {
        "id": "AR-JIDeRcKIV"
      },
      "source": [
        "##Code Reusability"
      ]
    },
    {
      "cell_type": "markdown",
      "metadata": {
        "id": "bkh-O-xicOgI"
      },
      "source": [
        "Just like in any writing we want to reduce redundancies in our content. Just like following the rules of brevity we also consider that in creating cleaner code. One way of applying brevity to code is code reusability wherein you refrain from creating code that you repeat in encoding. This is where the use of functions will be most used. Consider the following code below."
      ]
    },
    {
      "cell_type": "code",
      "execution_count": null,
      "metadata": {
        "id": "NLnOlMKlb2b1"
      },
      "outputs": [],
      "source": [
        "'''\n",
        "    CASE 2: Computing grades.\n",
        "\n",
        "    For this cell we are going to look into creating functions for the class.\n",
        "    This includes computing for their grades and some classroom management\n",
        "    routines.\n",
        "'''\n",
        "### Consider this procedural programming script\n",
        "gs_1 = [89.4, 78.2, 88.0, 28.5, 67.3]\n",
        "# Get average grades of the class\n",
        "class_g = 0\n",
        "for g in gs_1:\n",
        "  class_g += g\n",
        "cmean = class_g/len(gs_1)\n",
        "print (cmean)"
      ]
    },
    {
      "cell_type": "code",
      "execution_count": null,
      "metadata": {
        "id": "xIfmg6nGc-4a"
      },
      "outputs": [],
      "source": [
        "# Code here for grades  (89,90,73,45)\n",
        "gs_1 = [89,90,73,45]\n",
        "# Get average grades of the class\n",
        "class_g = 0\n",
        "for g in gs_1:\n",
        "  class_g += g\n",
        "cmean = class_g/len(gs_1)\n",
        "print (cmean)"
      ]
    },
    {
      "cell_type": "code",
      "execution_count": null,
      "metadata": {
        "id": "I8enZymbdNGf"
      },
      "outputs": [],
      "source": [
        "### That works but if you keep doing that for production, it would just look\n",
        "### like spaghetti code. Instead, if you are repeating code, consider creating\n",
        "### a function.\n",
        "\n",
        "def average(grades):\n",
        "  grades_class = 0\n",
        "  for g in grades:\n",
        "    grades_class += g\n",
        "  avg = grades_class/len(grades)\n",
        "  return avg"
      ]
    },
    {
      "cell_type": "code",
      "execution_count": null,
      "metadata": {
        "id": "NHEnXwXBdkt-"
      },
      "outputs": [],
      "source": [
        "## The code above would be reusable but it is not easy to read. We need to \n",
        "### enforce the code refactoring for renaming not just the variables but also\n",
        "### the functions we are creating. So if we would refactor the 'average' \n",
        "### Function earlier it could be:\n",
        "\n",
        "def get_class_ave(arr):\n",
        "  class_grades = 0\n",
        "  for grade in arr:\n",
        "    class_grades += grade\n",
        "  class_avg = class_grades/len(arr)\n",
        "  return class_avg"
      ]
    },
    {
      "cell_type": "markdown",
      "metadata": {
        "id": "BEwCQHwCdqkZ"
      },
      "source": [
        "##Getting Class Statistics"
      ]
    },
    {
      "cell_type": "markdown",
      "metadata": {
        "id": "LJ1UECSWd43_"
      },
      "source": [
        "Create a function named get_grades() for computing the semestral grade of each student:\n",
        "\n",
        "inputs: DataFrame of a class grade sheet.\n",
        "\n",
        "outpus: DataFrame showing:\n",
        "    The prelim, midterms, and finals grades of each student\n",
        "    The semestral grade of each student\n",
        "\n",
        "Create a function named get_class_stats().\n",
        "\n",
        "inputs: DataFrame from get_grades().\n",
        "\n",
        "outpus: DataFrame showing:\n",
        "    The lowest and highest prelim, midterm, finals, and semestral grades\n",
        "    the mean, median, mode, and standard deviation of the grades"
      ]
    },
    {
      "cell_type": "code",
      "execution_count": null,
      "metadata": {
        "id": "DIfZj6DEd2k4"
      },
      "outputs": [],
      "source": [
        "## Code here##\n",
        "import pandas as pd\n",
        "def get_grades():\n",
        "  class_grade_sheet = pd.DataFrame({'Name': ['Irish', 'Adrian', 'Ian'],\n",
        "        'Surnames':['Morales',\"Gonzales\",\"Laguisma\"],\n",
        "        'Prelim':[99,92,88],\n",
        "        'Midterm':[91,90,85],\n",
        "        'Final': [90,89,81]})\n",
        "  return class_grade_sheet\n",
        "  "
      ]
    },
    {
      "cell_type": "code",
      "execution_count": null,
      "metadata": {
        "id": "I20EeuUrJvFk",
        "colab": {
          "base_uri": "https://localhost:8080/",
          "height": 143
        },
        "outputId": "82e7d9f6-8d65-47b0-eacd-920837a3f624"
      },
      "outputs": [
        {
          "output_type": "execute_result",
          "data": {
            "text/plain": [
              "     Name  Surnames  Prelim  Midterm  Final\n",
              "0   Irish   Morales      99       91     90\n",
              "1  Adrian  Gonzales      92       90     89\n",
              "2     Ian  Laguisma      88       85     81"
            ],
            "text/html": [
              "\n",
              "  <div id=\"df-dfb66bd7-d865-47d6-84bc-d04c87b57226\">\n",
              "    <div class=\"colab-df-container\">\n",
              "      <div>\n",
              "<style scoped>\n",
              "    .dataframe tbody tr th:only-of-type {\n",
              "        vertical-align: middle;\n",
              "    }\n",
              "\n",
              "    .dataframe tbody tr th {\n",
              "        vertical-align: top;\n",
              "    }\n",
              "\n",
              "    .dataframe thead th {\n",
              "        text-align: right;\n",
              "    }\n",
              "</style>\n",
              "<table border=\"1\" class=\"dataframe\">\n",
              "  <thead>\n",
              "    <tr style=\"text-align: right;\">\n",
              "      <th></th>\n",
              "      <th>Name</th>\n",
              "      <th>Surnames</th>\n",
              "      <th>Prelim</th>\n",
              "      <th>Midterm</th>\n",
              "      <th>Final</th>\n",
              "    </tr>\n",
              "  </thead>\n",
              "  <tbody>\n",
              "    <tr>\n",
              "      <th>0</th>\n",
              "      <td>Irish</td>\n",
              "      <td>Morales</td>\n",
              "      <td>99</td>\n",
              "      <td>91</td>\n",
              "      <td>90</td>\n",
              "    </tr>\n",
              "    <tr>\n",
              "      <th>1</th>\n",
              "      <td>Adrian</td>\n",
              "      <td>Gonzales</td>\n",
              "      <td>92</td>\n",
              "      <td>90</td>\n",
              "      <td>89</td>\n",
              "    </tr>\n",
              "    <tr>\n",
              "      <th>2</th>\n",
              "      <td>Ian</td>\n",
              "      <td>Laguisma</td>\n",
              "      <td>88</td>\n",
              "      <td>85</td>\n",
              "      <td>81</td>\n",
              "    </tr>\n",
              "  </tbody>\n",
              "</table>\n",
              "</div>\n",
              "      <button class=\"colab-df-convert\" onclick=\"convertToInteractive('df-dfb66bd7-d865-47d6-84bc-d04c87b57226')\"\n",
              "              title=\"Convert this dataframe to an interactive table.\"\n",
              "              style=\"display:none;\">\n",
              "        \n",
              "  <svg xmlns=\"http://www.w3.org/2000/svg\" height=\"24px\"viewBox=\"0 0 24 24\"\n",
              "       width=\"24px\">\n",
              "    <path d=\"M0 0h24v24H0V0z\" fill=\"none\"/>\n",
              "    <path d=\"M18.56 5.44l.94 2.06.94-2.06 2.06-.94-2.06-.94-.94-2.06-.94 2.06-2.06.94zm-11 1L8.5 8.5l.94-2.06 2.06-.94-2.06-.94L8.5 2.5l-.94 2.06-2.06.94zm10 10l.94 2.06.94-2.06 2.06-.94-2.06-.94-.94-2.06-.94 2.06-2.06.94z\"/><path d=\"M17.41 7.96l-1.37-1.37c-.4-.4-.92-.59-1.43-.59-.52 0-1.04.2-1.43.59L10.3 9.45l-7.72 7.72c-.78.78-.78 2.05 0 2.83L4 21.41c.39.39.9.59 1.41.59.51 0 1.02-.2 1.41-.59l7.78-7.78 2.81-2.81c.8-.78.8-2.07 0-2.86zM5.41 20L4 18.59l7.72-7.72 1.47 1.35L5.41 20z\"/>\n",
              "  </svg>\n",
              "      </button>\n",
              "      \n",
              "  <style>\n",
              "    .colab-df-container {\n",
              "      display:flex;\n",
              "      flex-wrap:wrap;\n",
              "      gap: 12px;\n",
              "    }\n",
              "\n",
              "    .colab-df-convert {\n",
              "      background-color: #E8F0FE;\n",
              "      border: none;\n",
              "      border-radius: 50%;\n",
              "      cursor: pointer;\n",
              "      display: none;\n",
              "      fill: #1967D2;\n",
              "      height: 32px;\n",
              "      padding: 0 0 0 0;\n",
              "      width: 32px;\n",
              "    }\n",
              "\n",
              "    .colab-df-convert:hover {\n",
              "      background-color: #E2EBFA;\n",
              "      box-shadow: 0px 1px 2px rgba(60, 64, 67, 0.3), 0px 1px 3px 1px rgba(60, 64, 67, 0.15);\n",
              "      fill: #174EA6;\n",
              "    }\n",
              "\n",
              "    [theme=dark] .colab-df-convert {\n",
              "      background-color: #3B4455;\n",
              "      fill: #D2E3FC;\n",
              "    }\n",
              "\n",
              "    [theme=dark] .colab-df-convert:hover {\n",
              "      background-color: #434B5C;\n",
              "      box-shadow: 0px 1px 3px 1px rgba(0, 0, 0, 0.15);\n",
              "      filter: drop-shadow(0px 1px 2px rgba(0, 0, 0, 0.3));\n",
              "      fill: #FFFFFF;\n",
              "    }\n",
              "  </style>\n",
              "\n",
              "      <script>\n",
              "        const buttonEl =\n",
              "          document.querySelector('#df-dfb66bd7-d865-47d6-84bc-d04c87b57226 button.colab-df-convert');\n",
              "        buttonEl.style.display =\n",
              "          google.colab.kernel.accessAllowed ? 'block' : 'none';\n",
              "\n",
              "        async function convertToInteractive(key) {\n",
              "          const element = document.querySelector('#df-dfb66bd7-d865-47d6-84bc-d04c87b57226');\n",
              "          const dataTable =\n",
              "            await google.colab.kernel.invokeFunction('convertToInteractive',\n",
              "                                                     [key], {});\n",
              "          if (!dataTable) return;\n",
              "\n",
              "          const docLinkHtml = 'Like what you see? Visit the ' +\n",
              "            '<a target=\"_blank\" href=https://colab.research.google.com/notebooks/data_table.ipynb>data table notebook</a>'\n",
              "            + ' to learn more about interactive tables.';\n",
              "          element.innerHTML = '';\n",
              "          dataTable['output_type'] = 'display_data';\n",
              "          await google.colab.output.renderOutput(dataTable, element);\n",
              "          const docLink = document.createElement('div');\n",
              "          docLink.innerHTML = docLinkHtml;\n",
              "          element.appendChild(docLink);\n",
              "        }\n",
              "      </script>\n",
              "    </div>\n",
              "  </div>\n",
              "  "
            ]
          },
          "metadata": {},
          "execution_count": 30
        }
      ],
      "source": [
        "get_grades()"
      ]
    },
    {
      "cell_type": "code",
      "execution_count": 31,
      "metadata": {
        "colab": {
          "base_uri": "https://localhost:8080/"
        },
        "id": "LTHY2kCDKA-0",
        "outputId": "09bc08fa-05d0-4888-c264-18d87f23eb7d"
      },
      "outputs": [
        {
          "output_type": "stream",
          "name": "stdout",
          "text": [
            "     Name  Surnames  Prelim  Midterm  Final\n",
            "0   Irish   Morales      99       91     90\n",
            "1  Adrian  Gonzales      92       90     89\n",
            "2     Ian  Laguisma      88       85     81\n",
            "\n",
            "\n",
            "Highest in Prelim =  99\n",
            "Lowest in Prelim =  88\n",
            "\n",
            "\n",
            "Highest in Prelim =  91\n",
            "Lowest in Prelim =  85\n",
            "\n",
            "\n",
            "Highest in Prelim =  90\n",
            "Lowest in Prelim =  81\n",
            "\n",
            "Mean:\n",
            "Prelim     93.000000\n",
            "Midterm    88.666667\n",
            "Final      86.666667\n",
            "dtype: float64\n",
            "\n",
            "Median:\n",
            "Prelim     92.0\n",
            "Midterm    90.0\n",
            "Final      89.0\n",
            "dtype: float64\n",
            "\n",
            "Mode:\n",
            "     Name  Surnames  Prelim  Midterm  Final\n",
            "0  Adrian  Gonzales      88       85     81\n",
            "1     Ian  Laguisma      92       90     89\n",
            "2   Irish   Morales      99       91     90\n"
          ]
        },
        {
          "output_type": "stream",
          "name": "stderr",
          "text": [
            "/usr/local/lib/python3.7/dist-packages/ipykernel_launcher.py:27: FutureWarning: Dropping of nuisance columns in DataFrame reductions (with 'numeric_only=None') is deprecated; in a future version this will raise TypeError.  Select only valid columns before calling the reduction.\n",
            "/usr/local/lib/python3.7/dist-packages/ipykernel_launcher.py:30: FutureWarning: Dropping of nuisance columns in DataFrame reductions (with 'numeric_only=None') is deprecated; in a future version this will raise TypeError.  Select only valid columns before calling the reduction.\n"
          ]
        }
      ],
      "source": [
        "import statistics \n",
        "def get_grades():\n",
        "  class_grade_sheet = pd.DataFrame({'Name': ['Irish', 'Adrian', 'Ian'],\n",
        "        'Surnames':['Morales',\"Gonzales\",\"Laguisma\"],\n",
        "        'Prelim':[99,92,88],\n",
        "        'Midterm':[91,90,85],\n",
        "        'Final': [90,89,81]})\n",
        "  return class_grade_sheet\n",
        "\n",
        "print(get_grades());\n",
        "\n",
        "def get_class_stats():\n",
        "  class_grade_sheet = get_grades()\n",
        "  print(\"\\n\")\n",
        "  print(\"Highest in Prelim = \" , class_grade_sheet['Prelim'].max())\n",
        "  print(\"Lowest in Prelim = \" , class_grade_sheet['Prelim'].min())\n",
        "\n",
        "  print(\"\\n\")\n",
        "  print(\"Highest in Prelim = \" , class_grade_sheet['Midterm'].max())\n",
        "  print(\"Lowest in Prelim = \" , class_grade_sheet['Midterm'].min())\n",
        "\n",
        "  print(\"\\n\")\n",
        "  print(\"Highest in Prelim = \" , class_grade_sheet['Final'].max())\n",
        "  print(\"Lowest in Prelim = \" , class_grade_sheet['Final'].min())\n",
        "\n",
        "  print(\"\\nMean:\")\n",
        "  print(class_grade_sheet.mean())\n",
        "\n",
        "  print(\"\\nMedian:\")\n",
        "  print(class_grade_sheet.median())\n",
        "\n",
        "  print(\"\\nMode:\")\n",
        "  print(class_grade_sheet.mode())\n",
        "  \n",
        "get_class_stats()"
      ]
    },
    {
      "cell_type": "markdown",
      "metadata": {
        "id": "yPp4xl-beMIB"
      },
      "source": [
        "##Code Optimization\n",
        "When we consider your code to be part of production or for customer delivery we must consider that they are not laggy nor too space-consuming for devices. This is a common practice in data science and machine learning wherein training algorithms take up resources from computers or considering the space a model consumes at your workspace or your customer’s device."
      ]
    },
    {
      "cell_type": "markdown",
      "metadata": {
        "id": "CctsMtzIeax_"
      },
      "source": [
        "Space Complexity\n",
        "\n",
        "This would specifically refer to your choice of data structures. This is a job for reviewing data structures and algorithms for space complexity. Although in Python for AI we are looking into more data structures like matrices and data frames."
      ]
    },
    {
      "cell_type": "code",
      "execution_count": null,
      "metadata": {
        "colab": {
          "background_save": true
        },
        "id": "44ygYd6UeFOK"
      },
      "outputs": [],
      "source": [
        "## The following code will optimize how to efficiently store data into memory\n",
        "enrollees_2016_2020 = ['15022', '18302', '8845', '9203', '10035']\n",
        "enrollees_2016_2020 = [15022, 18302, 8845, 9203, 10035]"
      ]
    },
    {
      "cell_type": "code",
      "execution_count": null,
      "metadata": {
        "colab": {
          "background_save": true
        },
        "id": "B9I_1oWCewpr",
        "outputId": "e39f0d04-4187-4565-b3ea-75f6a97befe9"
      },
      "outputs": [
        {
          "data": {
            "text/plain": [
              "[[125.453, 254], [64.21, 84.53]]"
            ]
          },
          "execution_count": 27,
          "metadata": {},
          "output_type": "execute_result"
        }
      ],
      "source": [
        "img1 =[[125.453, 254],[64.21,84.53]]\n",
        "img1\n"
      ]
    },
    {
      "cell_type": "code",
      "execution_count": null,
      "metadata": {
        "colab": {
          "background_save": true
        },
        "id": "BZLeQRJ8e8ow",
        "outputId": "14e0d89b-b9fd-4162-a065-a0ed4cc27939"
      },
      "outputs": [
        {
          "data": {
            "text/plain": [
              "array([[125.453, 254.   ],\n",
              "       [ 64.21 ,  84.53 ]])"
            ]
          },
          "execution_count": 28,
          "metadata": {},
          "output_type": "execute_result"
        }
      ],
      "source": [
        "import numpy as np\n",
        "img1_vector= np.array(img1)\n",
        "img1_vector"
      ]
    },
    {
      "cell_type": "markdown",
      "metadata": {
        "id": "BsPgIjVvfuAM"
      },
      "source": [
        "##Practice Activity\n",
        "code wil try to optimize getting unique elements from the given\n",
        "list of class codes\n",
        "\n",
        "curr_2018_courses = ['220', '270', '318', '450', '101', '768', '223L', '223',\n",
        "                     '727', '418', '673', '672', '450', '124', '771', '654',\n",
        "                     '231', '768', '768', '224', '654', '673']\n",
        "\n",
        "### print an array that shows only the unique elements\n",
        "\n"
      ]
    },
    {
      "cell_type": "code",
      "execution_count": null,
      "metadata": {
        "colab": {
          "background_save": true
        },
        "id": "RdpdlgzzfRbX",
        "outputId": "2777d4d0-0020-4acd-e02a-1fa55256833e"
      },
      "outputs": [
        {
          "name": "stdout",
          "output_type": "stream",
          "text": [
            "['220', '270', '318', '450', '101', '768', '223L', '223', '727', '418', '673', '672', '124', '771', '654', '231', '224']\n"
          ]
        }
      ],
      "source": [
        "## CODE HERE ##\n",
        "curr_2018_courses = ['220', '270', '318', '450', '101', '768', '223L', '223', '727', '418', '673', '672', '450', '124', '771', '654', '231', '768', '768', '224', '654', '673']\n",
        "def get_unique_numbers(curr_2018_courses):\n",
        "    unique = []\n",
        "\n",
        "    for number in curr_2018_courses:\n",
        "        if number in unique:\n",
        "            continue\n",
        "        else:\n",
        "            unique.append(number)\n",
        "    return unique\n",
        "\n",
        "print(get_unique_numbers(curr_2018_courses))"
      ]
    }
  ],
  "metadata": {
    "colab": {
      "collapsed_sections": [],
      "toc_visible": true,
      "provenance": [],
      "include_colab_link": true
    },
    "kernelspec": {
      "display_name": "Python 3",
      "name": "python3"
    },
    "language_info": {
      "name": "python"
    }
  },
  "nbformat": 4,
  "nbformat_minor": 0
}